{
 "cells": [
  {
   "cell_type": "markdown",
   "metadata": {},
   "source": [
    "Frequencies in a Limited Array\n",
    "Difficulty: EasyAccuracy: 27.64%Submissions: 356K+Points: 2Average Time: 10m\n",
    "You are given an array arr[] containing positive integers. The elements in the array arr[] range from 1 to n (where n is the size of the array), and some numbers may be repeated or absent. Your task is to count the frequency of all numbers in the range 1 to n and return an array of size n such that result[i] represents the frequency of the number i (1-based indexing).\n",
    "\n",
    "Examples\n",
    "\n",
    "Input: arr[] = [2, 3, 2, 3, 5]\n",
    "Output: [0, 2, 2, 0, 1]\n",
    "Explanation: We have: 1 occurring 0 times, 2 occurring 2 times, 3 occurring 2 times, 4 occurring 0 times, and 5 occurring 1 time.\n",
    "Input: arr[] = [3, 3, 3, 3]\n",
    "Output: [0, 0, 4, 0]\n",
    "Explanation: We have: 1 occurring 0 times, 2 occurring 0 times, 3 occurring 4 times, and 4 occurring 0 times.\n",
    "Input: arr[] = [1]\n",
    "Output: [1]\n",
    "Explanation: We have: 1 occurring 1 time, and there are no other numbers between 1 and the size of the array.\n",
    "Constraints:\n",
    "1 ≤ arr.size() ≤ 106\n",
    "1 ≤ arr[i] ≤ arr.size()"
   ]
  },
  {
   "cell_type": "code",
   "execution_count": null,
   "metadata": {
    "vscode": {
     "languageId": "plaintext"
    }
   },
   "outputs": [],
   "source": [
    "class Solution:\n",
    "    # Function to count the frequency of all elements from 1 to N in the array.\n",
    "    def frequencyCount(self, arr):\n",
    "        n = len(arr) \n",
    "        fre = [0]*n\n",
    "        "
   ]
  }
 ],
 "metadata": {
  "language_info": {
   "name": "python"
  }
 },
 "nbformat": 4,
 "nbformat_minor": 2
}
