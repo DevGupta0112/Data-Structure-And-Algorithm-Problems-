{
 "cells": [
  {
   "cell_type": "markdown",
   "metadata": {},
   "source": [
    "Print N to 1 without loop\n",
    "\n",
    "Print numbers from N to 1 (space separated) without the help of loops.\n",
    "\n",
    "Example 1:\n",
    "\n",
    "Input:\n",
    "N = 10\n",
    "Output: 10 9 8 7 6 5 4 3 2 1\n",
    "Your Task:\n",
    "This is a function problem. You only need to complete the function printNos() that takes N as parameter and prints number from N to 1 recursively. Don't print newline, it will be added by the driver code.\n",
    "\n",
    "\n",
    "Expected Time Complexity: O(N).\n",
    "Expected Auxiliary Space: O(N) (Recursive).\n",
    "\n",
    "Constraint\n",
    "1<=n<=1000"
   ]
  },
  {
   "cell_type": "code",
   "execution_count": null,
   "metadata": {
    "vscode": {
     "languageId": "plaintext"
    }
   },
   "outputs": [],
   "source": [
    "class Solution:\n",
    "    def printNos(self, n , i=1):\n",
    "        if i > n:\n",
    "            return"
   ]
  }
 ],
 "metadata": {
  "language_info": {
   "name": "python"
  }
 },
 "nbformat": 4,
 "nbformat_minor": 2
}
