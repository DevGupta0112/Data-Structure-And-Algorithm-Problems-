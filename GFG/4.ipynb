{
 "cells": [
  {
   "cell_type": "markdown",
   "metadata": {},
   "source": [
    "Print N to 1 without loop\n",
    "\n",
    "Print numbers from N to 1 (space separated) without the help of loops.\n",
    "\n",
    "Example 1:\n",
    "\n",
    "Input:\n",
    "N = 10\n",
    "Output: 10 9 8 7 6 5 4 3 2 1"
   ]
  }
 ],
 "metadata": {
  "language_info": {
   "name": "python"
  }
 },
 "nbformat": 4,
 "nbformat_minor": 2
}
