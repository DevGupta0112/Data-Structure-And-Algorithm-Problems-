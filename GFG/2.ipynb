{
 "cells": [
  {
   "cell_type": "markdown",
   "metadata": {},
   "source": [
    "Reverse an Array\n",
    "\n",
    "You are given an array of integers arr[]. Your task is to reverse the given array.\n",
    "\n",
    "Note: Modify the array in place.\n",
    "\n",
    "Examples:\n",
    "\n",
    "Input: arr = [1, 4, 3, 2, 6, 5]\n",
    "Output: [5, 6, 2, 3, 4, 1]\n",
    "Explanation: The elements of the array are 1 4 3 2 6 5. After reversing the array, the first element goes to the last position, the second element goes to the second last position and so on. Hence, the answer is 5 6 2 3 4 1.\n",
    "Input: arr = [4, 5, 2]\n",
    "Output: [2, 5, 4]\n",
    "Explanation: The elements of the array are 4 5 2. The reversed array will be 2 5 4.\n",
    "Input: arr = [1]\n",
    "Output: [1]\n",
    "Explanation: The array has only single element, hence the reversed array is same as the original.\n",
    "Constraints:\n",
    "1<=arr.size()<=105\n",
    "0<=arr[i]<=105"
   ]
  },
  {
   "cell_type": "code",
   "execution_count": null,
   "metadata": {
    "vscode": {
     "languageId": "plaintext"
    }
   },
   "outputs": [],
   "source": [
    "class Solution:\n",
    "    def reverseArray(self, arr,left=0,right = None):\n",
    "        if right is None:\n",
    "            right = len(arr)-1\n",
    "            \n",
    "        if left >=right: \n",
    "            return\n",
    "        \n",
    "        arr[left],arr[right] = arr[right],arr[left]\n",
    "        self.reverseArray(arr,left+1,right-1)\n",
    "                                        "
   ]
  }
 ],
 "metadata": {
  "language_info": {
   "name": "python"
  }
 },
 "nbformat": 4,
 "nbformat_minor": 2
}
