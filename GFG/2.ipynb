{
 "cells": [
  {
   "cell_type": "markdown",
   "metadata": {},
   "source": [
    "Reverse an Array\n",
    "\n",
    "You are given an array of integers arr[]. Your task is to reverse the given array.\n",
    "\n",
    "Note: Modify the array in place.\n",
    "\n",
    "Examples:\n",
    "\n",
    "Input: arr = [1, 4, 3, 2, 6, 5]\n",
    "Output: [5, 6, 2, 3, 4, 1]\n",
    "Explanation: The elements of the array are 1 4 3 2 6 5. After reversing the array, the first element goes to the last position, the second element goes to the second last position and so on. Hence, the answer is 5 6 2 3 4 1.\n",
    "Input: arr = [4, 5, 2]\n",
    "Output: [2, 5, 4]\n",
    "Explanation: The elements of the array are 4 5 2. The reversed array will be 2 5 4."
   ]
  }
 ],
 "metadata": {
  "language_info": {
   "name": "python"
  }
 },
 "nbformat": 4,
 "nbformat_minor": 2
}
