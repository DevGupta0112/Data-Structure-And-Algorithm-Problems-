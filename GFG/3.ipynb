{
 "cells": [
  {
   "cell_type": "markdown",
   "metadata": {},
   "source": [
    "Print GFG n times without the loop.\n",
    "\n",
    "Example:\n",
    "\n",
    "Input:\n",
    "5\n",
    "Output:\n",
    "GFG GFG GFG GFG GFG\n",
    "Your Task:\n",
    "This is a function problem. You only need to complete the function printGfg() that takes N as param"
   ]
  }
 ],
 "metadata": {
  "language_info": {
   "name": "python"
  }
 },
 "nbformat": 4,
 "nbformat_minor": 2
}
