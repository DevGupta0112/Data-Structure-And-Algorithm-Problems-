{
 "cells": [
  {
   "cell_type": "markdown",
   "metadata": {},
   "source": [
    "Print GFG n times\n",
    "Difficulty: EasyAccuracy: 75.76%Submissions: 113K+Points: 2Average Time: 10m\n",
    "Print GFG n times without the loop.\n",
    "\n",
    "Example:\n",
    "\n",
    "Input:\n",
    "5\n",
    "Output:\n",
    "GFG GFG GFG GFG GFG\n",
    "Your Task:\n",
    "This is a function problem. You only need to complete the function printGfg() that takes N as parameter and prints N times GFG recursively. Don't print newline, it will be added by the driver code.\n",
    "\n",
    "\n",
    "Expected Time Complexity: O(N).\n",
    "Expected Auxiliary Space: O(N) (Recursive).\n",
    "\n",
    "Constraint:\n",
    "1<=N<=1000"
   ]
  }
 ],
 "metadata": {
  "language_info": {
   "name": "python"
  }
 },
 "nbformat": 4,
 "nbformat_minor": 2
}
