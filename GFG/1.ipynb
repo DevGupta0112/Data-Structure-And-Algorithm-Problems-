{
 "cells": [
  {
   "cell_type": "markdown",
   "metadata": {},
   "source": [
    "Print 1 To N Without Loop\n",
    "\n",
    "Print numbers from 1 to n without the help of loops. You only need to complete the function printNos() that takes n as a parameter and prints the number from 1 to n recursively.\n",
    "\n",
    "Note: Don't print any newline, it will be added by the driver code.\n",
    "Examples:\n",
    "\n",
    "Input: n = 10\n",
    "Output: 1 2 3 4 5 6 7 8 9 10\n",
    "Input: n = 5\n",
    "Output: 1 2 3 4 5\n",
    "Input: n = 1\n",
    "Output: 1\n",
    "Constraints:\n",
    "1 <= n <= 1000\n"
   ]
  }
 ],
 "metadata": {
  "language_info": {
   "name": "python"
  }
 },
 "nbformat": 4,
 "nbformat_minor": 2
}
