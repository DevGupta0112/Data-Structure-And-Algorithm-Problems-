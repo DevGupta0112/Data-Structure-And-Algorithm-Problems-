{
 "cells": [
  {
   "cell_type": "markdown",
   "id": "fae16859",
   "metadata": {},
   "source": [
    "2239. Find Closest Number to Zero\n",
    "Solved\n",
    "Easy\n",
    "Topics\n",
    "Companies\n",
    "Hint\n",
    "Given an integer array nums of size n, return the number with the value closest to 0 in nums. If there are multiple answers, return the number with the largest value.\n",
    "\n",
    " \n",
    "\n",
    "Example 1:\n",
    "\n",
    "Input: nums = [-4,-2,1,4,8]\n",
    "Output: 1\n",
    "Explanation:\n",
    "The distance from -4 to 0 is |-4| = 4.\n",
    "The distance from -2 to 0 is |-2| = 2.\n",
    "The distance from 1 to 0 is |1| = 1.\n",
    "The distance from 4 to 0 is |4| = 4.\n",
    "The distance from 8 to 0 is |8| = 8.\n",
    "Thus, the closest number to 0 in the array is 1.\n",
    "Example 2:\n",
    "\n",
    "Input: nums = [2,-1,1]\n",
    "Output: 1\n",
    "Explanation: 1 and -1 are both the closest numbers to 0, so 1 being larger is returned.\n",
    " \n",
    "\n",
    "Constraints:\n",
    "\n",
    "1 <= n <= 1000\n",
    "-105 <= nums[i] <= 105"
   ]
  }
 ],
 "metadata": {
  "language_info": {
   "name": "python"
  }
 },
 "nbformat": 4,
 "nbformat_minor": 5
}
