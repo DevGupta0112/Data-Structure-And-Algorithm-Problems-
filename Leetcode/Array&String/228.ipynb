{
 "cells": [
  {
   "cell_type": "markdown",
   "id": "fa16927b",
   "metadata": {},
   "source": [
    "228. Summary Ranges\n",
    "Solved\n",
    "Easy\n",
    "Topics\n",
    "Companies\n",
    "You are given a sorted unique integer array nums.\n",
    "\n",
    "A range [a,b] is the set of all integers from a to b (inclusive).\n",
    "\n",
    "Return the smallest sorted list of ranges that cover all the numbers in the array exactly. That is, each element of nums is covered by exactly one of the ranges, and there is no integer x such that x is in one of the ranges but not in nums.\n",
    "\n",
    "Each range [a,b] in the list should be output as:\n",
    "\n",
    "\"a->b\" if a != b\n",
    "\"a\" if a == b\n",
    " \n",
    "\n",
    "Example 1:\n",
    "\n",
    "Input: nums = [0,1,2,4,5,7]\n",
    "Output: [\"0->2\",\"4->5\",\"7\"]\n",
    "Explanation: The ranges are:\n",
    "[0,2] --> \"0->2\"\n",
    "[4,5] --> \"4->5\"\n",
    "[7,7] --> \"7\"\n",
    "Example 2:\n",
    "\n",
    "Input: nums = [0,2,3,4,6,8,9]\n",
    "Output: [\"0\",\"2->4\",\"6\",\"8->9\"]\n",
    "Explanation: The ranges are:\n",
    "[0,0] --> \"0\"\n",
    "[2,4] --> \"2->4\"\n",
    "[6,6] --> \"6\"\n",
    "[8,9] --> \"8->9\"\n",
    " \n",
    "\n",
    "Constraints:\n",
    "\n",
    "0 <= nums.length <= 20\n",
    "-231 <= nums[i] <= 231 - 1\n",
    "All the values of nums are unique.\n",
    "nums is sorted in ascending order."
   ]
  },
  {
   "cell_type": "code",
   "execution_count": null,
   "id": "4204258f",
   "metadata": {
    "vscode": {
     "languageId": "plaintext"
    }
   },
   "outputs": [],
   "source": [
    "class Solution(object):\n",
    "    def summaryRanges(self, nums):\n",
    "        ans = []\n",
    "        i = 0\n",
    "\n",
    "        while i < len(nums):\n",
    "            start = nums[i]\n",
    "\n",
    "            while i < len(nums)-1 and nums[i] +1 == nums[i+1]:\n",
    "                i +=1\n",
    "\n",
    "            if start != nums[i]:\n",
    "                ans.append(str(start)+'->'+str(nums[i]))\n",
    "            else:\n",
    "                ans.append(str(nums[i]))\n",
    "\n",
    "            i += 1\n",
    "        return ans"
   ]
  }
 ],
 "metadata": {
  "language_info": {
   "name": "python"
  }
 },
 "nbformat": 4,
 "nbformat_minor": 5
}
