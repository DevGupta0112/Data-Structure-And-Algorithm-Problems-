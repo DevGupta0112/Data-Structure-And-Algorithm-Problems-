{
 "cells": [
  {
   "cell_type": "markdown",
   "id": "4c989125",
   "metadata": {},
   "source": [
    "14. Longest Common Prefix\n",
    "\n",
    "Write a function to find the longest common prefix string amongst an array of strings.\n",
    "\n",
    "If there is no common prefix, return an empty string \"\".\n",
    "\n",
    " \n",
    "\n",
    "Example 1:\n",
    "\n",
    "Input: strs = [\"flower\",\"flow\",\"flight\"]\n",
    "Output: \"fl\"\n",
    "Example 2:\n",
    "\n",
    "Input: strs = [\"dog\",\"racecar\",\"car\"]\n",
    "Output: \"\"\n",
    "Explanation: There is no common prefix among the input strings.\n",
    " \n",
    "\n",
    "Constraints:\n",
    "\n",
    "1 <= strs.length <= 200\n",
    "0 <= strs[i].length <= 200\n",
    "strs[i] consists of only lowercase English letters if it is non-empty."
   ]
  },
  {
   "cell_type": "code",
   "execution_count": null,
   "id": "6129d52e",
   "metadata": {
    "vscode": {
     "languageId": "plaintext"
    }
   },
   "outputs": [],
   "source": [
    "class Solution(object):\n",
    "    def longestCommonPrefix(self, strs):\n",
    "        min_length = float('inf')\n",
    "        \n",
    "        for s in strs:\n",
    "            if len(s)<min_length:\n",
    "                min_length= len(s)\n",
    "\n",
    "        i = 0\n",
    "        while  i < min_length:\n",
    "            for s in strs:\n",
    "                if s[i] != strs[0][i]:\n",
    "                    return s[:i]\n",
    "            i +=1\n",
    "        return s[:i]\n"
   ]
  }
 ],
 "metadata": {
  "language_info": {
   "name": "python"
  }
 },
 "nbformat": 4,
 "nbformat_minor": 5
}
