{
 "cells": [
  {
   "cell_type": "markdown",
   "id": "62b479b0",
   "metadata": {},
   "source": [
    "vsdv"
   ]
  }
 ],
 "metadata": {
  "language_info": {
   "name": "python"
  }
 },
 "nbformat": 4,
 "nbformat_minor": 5
}
