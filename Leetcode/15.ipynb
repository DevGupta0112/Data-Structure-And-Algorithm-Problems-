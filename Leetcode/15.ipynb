{
 "cells": [
  {
   "cell_type": "markdown",
   "id": "239ad988",
   "metadata": {},
   "source": [
    "15. 3Sum\n",
    "\n",
    "Given an integer array nums, return all the triplets [nums[i], nums[j], nums[k]] such that i != j, i != k, and j != k, and nums[i] + nums[j] + nums[k] == 0.\n",
    "\n",
    "Notice that the solution set must not contain duplicate triplets.\n",
    "\n",
    " \n",
    "\n",
    "Example 1:\n",
    "\n",
    "Input: nums = [-1,0,1,2,-1,-4]\n",
    "Output: [[-1,-1,2],[-1,0,1]]\n",
    "Explanation: \n",
    "nums[0] + nums[1] + nums[2] = (-1) + 0 + 1 = 0.\n",
    "nums[1] + nums[2] + nums[4] = 0 + 1 + (-1) = 0.\n",
    "nums[0] + nums[3] + nums[4] = (-1) + 2 + (-1) = 0.\n",
    "The distinct triplets are [-1,0,1] and [-1,-1,2].\n",
    "Notice that the order of the output and the order of the triplets does not matter.\n",
    "Example 2:\n",
    "\n",
    "Input: nums = [0,1,1]\n",
    "Output: []\n",
    "Explanation: The only possible triplet does not sum up to 0.\n",
    "Example 3:\n",
    "\n",
    "Input: nums = [0,0,0]\n",
    "Output: [[0,0,0]]\n",
    "Explanation: The only possible triplet sums up to 0.\n",
    " \n",
    "\n",
    "Constraints:\n",
    "\n",
    "3 <= nums.length <= 3000\n",
    "-105 <= nums[i] <= 105"
   ]
  },
  {
   "cell_type": "code",
   "execution_count": null,
   "id": "41a37c93",
   "metadata": {
    "vscode": {
     "languageId": "plaintext"
    }
   },
   "outputs": [],
   "source": [
    "class Solution(object):\n",
    "    def threeSum(self, nums):\n",
    "        nums.sort()\n",
    "        n = len(nums)\n",
    "        answer = []\n",
    "\n",
    "        for  i in range(n):\n",
    "            if nums[i] > 0 :\n",
    "                break\n",
    "            elif i > 0 and nums[i] == nums[i-1]:\n",
    "                continue\n",
    "            \n",
    "            lo,hi = i+1,n-1\n",
    "            while lo < hi:\n",
    "                summ = nums[i] + nums[lo]+ nums[hi]\n",
    "                if summ == 0:\n",
    "                    answer.append([nums[i],nums[lo],nums[hi]])\n",
    "                    lo,hi = lo+1,hi-1\n",
    "                    while lo<hi and nums[lo] == nums[lo-1]:\n",
    "                        lo+=1\n",
    "                    while lo<hi and nums[hi] == nums[hi+1]:\n",
    "                        hi-=1\n",
    "                elif summ< 0:\n",
    "                    lo +=1\n",
    "                else:\n",
    "                    hi-=1\n",
    "\n",
    "        return answer \n",
    "        #done"
   ]
  }
 ],
 "metadata": {
  "language_info": {
   "name": "python"
  }
 },
 "nbformat": 4,
 "nbformat_minor": 5
}
