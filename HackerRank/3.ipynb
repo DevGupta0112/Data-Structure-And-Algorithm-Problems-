{
 "cells": [
  {
   "cell_type": "markdown",
   "metadata": {},
   "source": [
    "Given an array of integers, where all elements but one occur twice, find the unique element.\n",
    "\n",
    "Example\n",
    "\n",
    "The unique element is .\n",
    "\n",
    "Function Description\n",
    "\n",
    "Complete the lonelyinteger function in the editor below.\n",
    "\n",
    "lonelyinteger has the following parameter(s):\n",
    "\n",
    "int a[n]: an array of integers\n",
    "Returns\n",
    "\n",
    "int: the element that occurs only once\n",
    "Input Format\n",
    "\n",
    "The first line contains a single integer, , the number of integers in the array.\n",
    "The second line contains  space-separated integers that describe the values in .\n",
    "\n"
   ]
  }
 ],
 "metadata": {
  "language_info": {
   "name": "python"
  }
 },
 "nbformat": 4,
 "nbformat_minor": 2
}
