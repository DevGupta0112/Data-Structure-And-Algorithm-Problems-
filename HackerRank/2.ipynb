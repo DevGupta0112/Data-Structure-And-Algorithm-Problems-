{
 "cells": [
  {
   "cell_type": "markdown",
   "metadata": {},
   "source": [
    "Given five positive integers, find the minimum and maximum values that can be calculated by summing exactly four of the five integers. Then print the respective minimum and maximum values as a single line of two space-separated long integers.\n",
    "\n",
    "Example\n",
    "\n",
    "The minimum sum is  and the maximum sum is . The function prints\n",
    "\n",
    "16 24\n",
    "Function Description\n",
    "\n",
    "Complete the miniMaxSum function in the editor below.\n",
    "\n",
    "miniMaxSum has the following parameter(s):\n",
    "\n",
    "arr: an array of  integers\n",
    "Print\n",
    "\n",
    "Print two space-separated integers on one line: the minimum sum and the maximum sum of  of  elements.\n",
    "\n",
    "Input Format\n",
    "\n",
    "A single line of five space-separated integers.\n",
    "\n",
    "Constraints\n",
    "\n",
    "\n",
    "Output Format\n",
    "\n",
    "Print two space-separated long integers denoting the respective minimum and maximum values that can be calculated by summing exactly four of the five integers. (The output can be greater than a 32 bit integer.)\n",
    "\n",
    "Sample Input\n",
    "\n",
    "1 2 3 4 5\n",
    "Sample Output\n",
    "\n",
    "10 14\n",
    "Explanation\n",
    "\n",
    "The numbers are , , , , and . Calculate the following sums using four of the five integers:\n",
    "\n",
    "Sum everything except , the sum is .\n",
    "Sum everything except , the sum is .\n",
    "Sum everything except , the sum is .\n",
    "Sum everything except , the sum is .\n",
    "Sum everything except , the sum is .\n",
    "Hints: Beware of integer overflow! Use 64-bit Integer.\n",
    "\n"
   ]
  }
 ],
 "metadata": {
  "language_info": {
   "name": "python"
  }
 },
 "nbformat": 4,
 "nbformat_minor": 2
}
