{
 "cells": [
  {
   "cell_type": "code",
   "execution_count": null,
   "metadata": {
    "vscode": {
     "languageId": "plaintext"
    }
   },
   "outputs": [],
   "source": [
    "sdfse\n",
    "\n",
    "\n",
    "how \n",
    "asdacdvd\n",
    "awa\n",
    "as\n",
    "asdasdzd\n",
    "sc"
   ]
  }
 ],
 "metadata": {
  "language_info": {
   "name": "python"
  }
 },
 "nbformat": 4,
 "nbformat_minor": 2
}
