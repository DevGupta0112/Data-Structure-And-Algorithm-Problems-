{
 "cells": [
  {
   "cell_type": "markdown",
   "metadata": {},
   "source": [
    "Given a square matrix, calculate the absolute difference between the sums of its diagonals.\n",
    "\n",
    "For example, the square matrix arr  is shown below:\n",
    "\n",
    "1 2 3\n",
    "4 5 6\n",
    "9 8 9  \n",
    "The left-to-right diagonal = . The right to left diagonal = . Their absolute difference is .\n",
    "\n",
    "Function description\n",
    "\n",
    "Complete the  function in the editor below.\n",
    "\n",
    "diagonalDifference takes the following parameter:\n",
    "\n",
    "int arr[n][m]: an array of integers\n",
    "Return\n",
    "\n",
    "int: the absolute diagonal difference\n",
    "Input Format\n",
    "\n",
    "The first line contains a single integer, , the number of rows and columns in the square matrix .\n",
    "Each of the next  lines describes a row, , and consists of  space-separated integers .\n",
    "\n",
    "Constraints\n",
    "\n",
    "Output Format\n",
    "\n",
    "Return the absolute difference between the sums of the matrix's two diagonals as a single integer.\n",
    "\n",
    "Sample Input\n",
    "\n",
    "3\n",
    "11 2 4\n",
    "4 5 6\n",
    "10 8 -12\n",
    "Sample Output\n",
    "\n",
    "15\n",
    "Explanation\n",
    "\n",
    "The primary diagonal is:\n",
    "\n",
    "11\n",
    "   5\n",
    "     -12\n",
    "Sum across the primary diagonal: 11 + 5 - 12 = 4\n",
    "\n",
    "The secondary diagonal is:\n",
    "\n",
    "     4\n",
    "   5\n",
    "10\n",
    "Sum across the secondary diagonal: 4 + 5 + 10 = 19\n",
    "Difference: |4 - 19| = 15\n",
    "\n",
    "Note: |x| is the absolute value of x"
   ]
  },
  {
   "cell_type": "code",
   "execution_count": null,
   "metadata": {
    "vscode": {
     "languageId": "plaintext"
    }
   },
   "outputs": [],
   "source": []
  }
 ],
 "metadata": {
  "language_info": {
   "name": "python"
  }
 },
 "nbformat": 4,
 "nbformat_minor": 2
}
